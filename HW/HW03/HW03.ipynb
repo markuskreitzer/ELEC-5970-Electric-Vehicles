{
 "cells": [
  {
   "cell_type": "code",
   "execution_count": 64,
   "outputs": [],
   "source": [
    "from numpy import pi, sin,cos\n",
    "from numpy.typing import ArrayLike\n",
    "degrees = pi/180\n",
    "g = 196133/20000\n",
    "g = 9.81"
   ],
   "metadata": {
    "collapsed": false,
    "pycharm": {
     "name": "#%%\n"
    }
   }
  },
  {
   "cell_type": "markdown",
   "source": [
    "# Homework 3\n",
    "Markus Kreitzer\n",
    "21 September 2022\n",
    "\n",
    "## Problem 1\n",
    "Given:"
   ],
   "metadata": {
    "collapsed": false,
    "pycharm": {
     "name": "#%% md\n"
    }
   }
  },
  {
   "cell_type": "code",
   "execution_count": 65,
   "metadata": {
    "collapsed": true,
    "pycharm": {
     "name": "#%%\n"
    }
   },
   "outputs": [],
   "source": [
    "theta = 20 * degrees\n",
    "mass = 3000 # kg\n",
    "Jm = 0.3 # kg-m^2\n",
    "J_drum = 45 # kg-m^2\n",
    "drum_diameter = 0.5 # m\n",
    "a = 1/6.25 # gear coupling ratio (ω_drum / ω_m)\n",
    "v_belt = 2 # m/s\n",
    "E_mass = (0.5 * mass * v_belt ** 2 )*sin(theta)"
   ]
  },
  {
   "cell_type": "markdown",
   "source": [
    "a. Calculate the motor speed $\\omega_m$"
   ],
   "metadata": {
    "collapsed": false,
    "pycharm": {
     "name": "#%% md\n"
    }
   }
  },
  {
   "cell_type": "code",
   "execution_count": 66,
   "outputs": [
    {
     "name": "stdout",
     "output_type": "stream",
     "text": [
      "ω_drum = 8.0\n",
      "ω_motor = 50.0 rad/s\n"
     ]
    }
   ],
   "source": [
    "def v_motor():\n",
    "    pass\n",
    "\n",
    "def ω_drum(velocity: ArrayLike,diameter:ArrayLike):\n",
    "    return velocity/(diameter/2)\n",
    "def ω_motor(ω, a):\n",
    "    return ω/a\n",
    "\n",
    "print(f'ω_drum = {ω_drum(v_belt, drum_diameter)}')\n",
    "print(f'ω_motor = {ω_motor(ω_drum(v_belt, drum_diameter),a)} rad/s')\n"
   ],
   "metadata": {
    "collapsed": false,
    "pycharm": {
     "name": "#%%\n"
    }
   }
  },
  {
   "cell_type": "markdown",
   "source": [
    "b. Calculate the total inertia $J_{tot}$ referred to the motor."
   ],
   "metadata": {
    "collapsed": false,
    "pycharm": {
     "name": "#%% md\n"
    }
   }
  },
  {
   "cell_type": "code",
   "execution_count": 67,
   "outputs": [
    {
     "name": "stdout",
     "output_type": "stream",
     "text": [
      "J_total = 2.604 kg-m^2\n"
     ]
    }
   ],
   "source": [
    "J_total = Jm + a**2 * 2 * J_drum\n",
    "print(f'J_total = {J_total} kg-m^2')"
   ],
   "metadata": {
    "collapsed": false,
    "pycharm": {
     "name": "#%%\n"
    }
   }
  },
  {
   "cell_type": "markdown",
   "source": [
    "c. Calculate the motor torque $T_{m,0}$ at standstill."
   ],
   "metadata": {
    "collapsed": false,
    "pycharm": {
     "name": "#%% md\n"
    }
   }
  },
  {
   "cell_type": "code",
   "execution_count": 75,
   "outputs": [
    {
     "name": "stdout",
     "output_type": "stream",
     "text": [
      "Drum torque  Td = 2516.41 Nm\n",
      "Motor torque Tm = 402.63 Nm\n"
     ]
    }
   ],
   "source": [
    "Fd = mass*g*sin(theta)\n",
    "Td = Fd*(drum_diameter/2)\n",
    "print(f'Drum torque  Td = {Td:0.2f} Nm')\n",
    "T_motor = Td * a\n",
    "print(f'Motor torque Tm = {T_motor:0.2f} Nm')"
   ],
   "metadata": {
    "collapsed": false,
    "pycharm": {
     "name": "#%%\n"
    }
   }
  },
  {
   "cell_type": "markdown",
   "source": [
    "## Problem 2"
   ],
   "metadata": {
    "collapsed": false,
    "pycharm": {
     "name": "#%% md\n"
    }
   }
  },
  {
   "cell_type": "code",
   "execution_count": 83,
   "outputs": [
    {
     "name": "stdout",
     "output_type": "stream",
     "text": [
      "3140.625\n",
      "Motor rotational speed Wm(2) = 50.00 rad/s\n",
      "Mechanical Power Pm = 6375.00 W\n"
     ]
    }
   ],
   "source": [
    "Tm = 502.5 # Nm\n",
    "Td = Tm / a\n",
    "print(Td)\n",
    "vf = 2 # m/s\n",
    "Wd = ω_drum(vf, drum_diameter)\n",
    "Wm = ω_motor(Wd, a)\n",
    "print(f'Motor rotational speed Wm(2) = {Wm:0.2f} rad/s')\n",
    "Pm = 0.5 * Jm * Wm**2 + 0.5 * mass * vf**2\n",
    "print(f'Mechanical Power Pm = {Pm:0.2f} W')"
   ],
   "metadata": {
    "collapsed": false,
    "pycharm": {
     "name": "#%%\n"
    }
   }
  },
  {
   "cell_type": "markdown",
   "source": [
    "b. Calculate the time it takes to reach point B and distance between A and B"
   ],
   "metadata": {
    "collapsed": false,
    "pycharm": {
     "name": "#%% md\n"
    }
   }
  },
  {
   "cell_type": "code",
   "execution_count": 88,
   "outputs": [
    {
     "data": {
      "text/plain": "1.0"
     },
     "execution_count": 88,
     "metadata": {},
     "output_type": "execute_result"
    }
   ],
   "source": [
    "Jeq = Jm + ((drum_diameter/2)**2) * mass\n",
    "Tem = Jeq * Wm\n",
    "tf = (Jeq * Wm) / Tem\n",
    "tf"
   ],
   "metadata": {
    "collapsed": false,
    "pycharm": {
     "name": "#%%\n"
    }
   }
  },
  {
   "cell_type": "markdown",
   "source": [],
   "metadata": {
    "collapsed": false,
    "pycharm": {
     "name": "#%% md\n"
    }
   }
  },
  {
   "cell_type": "code",
   "execution_count": 77,
   "outputs": [],
   "source": [
    "\n",
    "def Wm(t: ArrayLike) -> ArrayLike:\n",
    "    pass"
   ],
   "metadata": {
    "collapsed": false,
    "pycharm": {
     "name": "#%%\n"
    }
   }
  },
  {
   "cell_type": "code",
   "execution_count": null,
   "outputs": [],
   "source": [],
   "metadata": {
    "collapsed": false,
    "pycharm": {
     "name": "#%%\n"
    }
   }
  }
 ],
 "metadata": {
  "kernelspec": {
   "display_name": "Python 3",
   "language": "python",
   "name": "python3"
  },
  "language_info": {
   "codemirror_mode": {
    "name": "ipython",
    "version": 2
   },
   "file_extension": ".py",
   "mimetype": "text/x-python",
   "name": "python",
   "nbconvert_exporter": "python",
   "pygments_lexer": "ipython2",
   "version": "2.7.6"
  }
 },
 "nbformat": 4,
 "nbformat_minor": 0
}