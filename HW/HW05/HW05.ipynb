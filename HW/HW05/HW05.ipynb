{
 "cells": [
  {
   "cell_type": "code",
   "execution_count": 142,
   "metadata": {
    "collapsed": true,
    "pycharm": {
     "name": "#%%\n"
    }
   },
   "outputs": [],
   "source": [
    "import matplotlib.pyplot as plt\n",
    "%matplotlib widget\n",
    "%precision %.2f\n",
    "from numpy import pi, sin, arange, ones, linspace\n",
    "from numpy.typing import ArrayLike\n",
    "from IPython.display import Markdown as md\n",
    "degrees = pi/180\n",
    "g = 196133/20000\n",
    "radians_per_sec = (2.0*pi) / 60.0"
   ]
  },
  {
   "cell_type": "markdown",
   "metadata": {
    "pycharm": {
     "name": "#%% md\n"
    }
   },
   "source": [
    "# Homework 5\n",
    "Markus Kreitzer\n",
    "10 Oct 2022\n",
    "\n",
    "## Problem 1\n",
    "Given:"
   ]
  },
  {
   "cell_type": "code",
   "execution_count": 143,
   "metadata": {
    "pycharm": {
     "name": "#%%\n"
    }
   },
   "outputs": [],
   "source": [
    "K_phi = 0.5 # Wb\n",
    "Ra = 0.25 # Ohms\n",
    "T_rated = 12 # N-m\n",
    "w_m = 3700 * radians_per_sec\n",
    "I = lambda T,K: T/K\n",
    "I_a_rated = I(T_rated,K_phi)"
   ]
  },
  {
   "cell_type": "markdown",
   "metadata": {
    "pycharm": {
     "name": "#%% md\n"
    }
   },
   "source": [
    "a) Calculate the terminal voltage $V_A$"
   ]
  },
  {
   "cell_type": "code",
   "execution_count": 144,
   "metadata": {
    "pycharm": {
     "name": "#%%\n"
    }
   },
   "outputs": [
    {
     "name": "stdout",
     "output_type": "stream",
     "text": [
      "V_A: 81.04 V\n"
     ]
    }
   ],
   "source": [
    "T_load_1 = 5 # N-m\n",
    "I_a_load_1 = I(T_load_1, K_phi)\n",
    "w_m_1 = 1500 * radians_per_sec # rpm\n",
    "# VA should be 81.04 V\n",
    "V_a = I_a_load_1 * Ra\n",
    "E_a = K_phi * w_m_1\n",
    "V_A = E_a + V_a\n",
    "print(f\"V_A: {V_A:0.2f} V\")"
   ]
  },
  {
   "cell_type": "markdown",
   "metadata": {
    "pycharm": {
     "name": "#%% md\n"
    }
   },
   "source": [
    "b) Calculate the winding losses."
   ]
  },
  {
   "cell_type": "code",
   "execution_count": 145,
   "metadata": {
    "pycharm": {
     "name": "#%%\n"
    }
   },
   "outputs": [
    {
     "name": "stdout",
     "output_type": "stream",
     "text": [
      "Winding Losses: 25.00 W\n"
     ]
    }
   ],
   "source": [
    "Pa = I_a_load_1 ** 2 * Ra\n",
    "print(f\"Winding Losses: {Pa:0.2f} W\")"
   ]
  },
  {
   "cell_type": "markdown",
   "metadata": {
    "pycharm": {
     "name": "#%% md\n"
    }
   },
   "source": [
    "c) Input power and Efficiency"
   ]
  },
  {
   "cell_type": "code",
   "execution_count": 146,
   "metadata": {
    "pycharm": {
     "name": "#%%\n"
    }
   },
   "outputs": [
    {
     "name": "stdout",
     "output_type": "stream",
     "text": [
      "P_load: 810.40 W\n"
     ]
    }
   ],
   "source": [
    "P_load = E_a * I_a_load_1 + Pa\n",
    "print(f\"P_load: {P_load:0.2f} W\")"
   ]
  },
  {
   "cell_type": "code",
   "execution_count": 147,
   "metadata": {
    "pycharm": {
     "name": "#%%\n"
    }
   },
   "outputs": [
    {
     "name": "stdout",
     "output_type": "stream",
     "text": [
      "Efficiency: 96.92 %\n"
     ]
    }
   ],
   "source": [
    "eff = (T_load_1 * w_m_1)/P_load\n",
    "print(f\"Efficiency: {100*eff:0.2f} %\")"
   ]
  },
  {
   "cell_type": "markdown",
   "metadata": {
    "pycharm": {
     "name": "#%% md\n"
    }
   },
   "source": [
    "## Problem 2\n",
    "A separately excited dc motor with the following parameters:\n"
   ]
  },
  {
   "cell_type": "code",
   "execution_count": 148,
   "metadata": {
    "pycharm": {
     "name": "#%%\n"
    }
   },
   "outputs": [],
   "source": [
    "Ra = 0.45 # Ohms\n",
    "T_rated = 11 # N-m\n",
    "w_m_rated = 2000 * radians_per_sec\n",
    "I_a_rated = 20"
   ]
  },
  {
   "cell_type": "code",
   "execution_count": 149,
   "metadata": {
    "pycharm": {
     "name": "#%%\n"
    }
   },
   "outputs": [
    {
     "name": "stdout",
     "output_type": "stream",
     "text": [
      "K_phi: 0.55 Wb\n"
     ]
    }
   ],
   "source": [
    "K_phi = T_rated/I_a_rated\n",
    "print(f\"K_phi: {K_phi:0.2f} Wb\")"
   ]
  },
  {
   "cell_type": "code",
   "execution_count": 150,
   "metadata": {
    "pycharm": {
     "name": "#%%\n"
    }
   },
   "outputs": [
    {
     "name": "stdout",
     "output_type": "stream",
     "text": [
      "field_winding_loss: 75.98 W\n"
     ]
    }
   ],
   "source": [
    "eff = 0.9\n",
    "Pm_rated_load = T_rated*w_m_rated\n",
    "field_winding_loss = (Pm_rated_load - (eff * (Ra * I_a_rated**2 + Pm_rated_load)))/eff\n",
    "print(f\"field_winding_loss: {field_winding_loss:0.2f} W\")"
   ]
  },
  {
   "cell_type": "markdown",
   "metadata": {
    "pycharm": {
     "name": "#%% md\n"
    }
   },
   "source": [
    "c) The motor is operated at 120% speed, the efficiency is 90%, calculate the field winding loss:"
   ]
  },
  {
   "cell_type": "code",
   "execution_count": 151,
   "metadata": {
    "pycharm": {
     "name": "#%%\n"
    }
   },
   "outputs": [
    {
     "name": "stdout",
     "output_type": "stream",
     "text": [
      "New K_phi: 0.458\n"
     ]
    }
   ],
   "source": [
    "wm_new = 1.2 * w_m_rated\n",
    "E_a = K_phi * w_m_rated\n",
    "Va = E_a + I_a_rated*Ra\n",
    "T = Pm_rated_load / wm_new\n",
    "K_phi_new = T/I_a_rated\n",
    "print(f\"New K_phi: {K_phi_new:0.3f}\")"
   ]
  },
  {
   "cell_type": "markdown",
   "metadata": {
    "pycharm": {
     "name": "#%% md\n"
    }
   },
   "source": [
    "d) Calculate the maximum torque without overloading:"
   ]
  },
  {
   "cell_type": "code",
   "execution_count": 155,
   "metadata": {
    "pycharm": {
     "name": "#%%\n"
    }
   },
   "outputs": [
    {
     "name": "stdout",
     "output_type": "stream",
     "text": [
      "T_max: 9.167 N-m\n"
     ]
    }
   ],
   "source": [
    "T_max = Pm_rated_load/wm_new\n",
    "print(f\"T_max: {T_max:0.3f} N-m\")"
   ]
  },
  {
   "cell_type": "markdown",
   "metadata": {
    "pycharm": {
     "name": "#%% md\n"
    }
   },
   "source": [
    "## Problem 3\n",
    "\n",
    "| Parameter | $I_{a}$ | $T_{em}$ | $P_{input}$ |\n",
    "| --------- | ------- | -------- | ----------- |\n",
    "| $V_{t2}$  | 0       | 0        | 0           |\n",
    "| $V_{t3}$  | <1      | <1       | <1          |\n",
    "| $V_{t4}$  | <1      | <1       | <1          |\n",
    "| $V_{t5}$  | 1       | <1       | 1           |\n",
    "| $V_{t6}$  | 1       | <1       | 1           |\n",
    "| $V_{t7}$  | 0       | 0        | 0           |\n",
    "\n"
   ]
  },
  {
   "cell_type": "code",
   "execution_count": null,
   "metadata": {
    "pycharm": {
     "name": "#%%\n"
    }
   },
   "outputs": [],
   "source": []
  }
 ],
 "metadata": {
  "kernelspec": {
   "display_name": "Python 3 (ipykernel)",
   "language": "python",
   "name": "python3"
  },
  "language_info": {
   "codemirror_mode": {
    "name": "ipython",
    "version": 3
   },
   "file_extension": ".py",
   "mimetype": "text/x-python",
   "name": "python",
   "nbconvert_exporter": "python",
   "pygments_lexer": "ipython3",
   "version": "3.9.14"
  }
 },
 "nbformat": 4,
 "nbformat_minor": 1
}