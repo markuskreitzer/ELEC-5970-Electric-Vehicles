{
 "cells": [
  {
   "cell_type": "code",
   "execution_count": null,
   "metadata": {
    "collapsed": true,
    "pycharm": {
     "name": "#%%\n",
     "is_executing": true
    }
   },
   "outputs": [],
   "source": [
    "mass = 0.5 # kg\n",
    "v0 = 0 # m/s\n",
    "vf = 1 # m/s\n",
    "t0 = 0 # seconds\n",
    "tf = 3 # seconds\n",
    "dt = tf - t0\n",
    "r = 100\n",
    "omega_m =  velocity / r\n",
    "W = 0.5 * Jm * omega_m ** 2  + 0.5 * mass * velocity ** 2\n",
    "\n",
    "Tem  = Jeq * diff(omega_m)"
   ]
  }
 ],
 "metadata": {
  "kernelspec": {
   "display_name": "Python 3",
   "language": "python",
   "name": "python3"
  },
  "language_info": {
   "codemirror_mode": {
    "name": "ipython",
    "version": 2
   },
   "file_extension": ".py",
   "mimetype": "text/x-python",
   "name": "python",
   "nbconvert_exporter": "python",
   "pygments_lexer": "ipython2",
   "version": "2.7.6"
  }
 },
 "nbformat": 4,
 "nbformat_minor": 0
}