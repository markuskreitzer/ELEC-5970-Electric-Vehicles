{
 "cells": [
  {
   "cell_type": "code",
   "execution_count": 11,
   "outputs": [],
   "source": [
    "import matplotlib.pyplot as plt\n",
    "%matplotlib widget\n",
    "%precision %.2f\n",
    "from numpy import pi, sin, arange, ones, linspace\n",
    "from numpy.typing import ArrayLike\n",
    "from IPython.display import Markdown as md\n",
    "degrees = pi/180\n",
    "g = 196133/20000"
   ],
   "metadata": {
    "collapsed": false,
    "pycharm": {
     "name": "#%%\n"
    }
   }
  },
  {
   "cell_type": "markdown",
   "source": [
    "# Homework 3\n",
    "Markus Kreitzer\n",
    "21 September 2022\n",
    "\n",
    "## Problem 1\n",
    "Given:"
   ],
   "metadata": {
    "collapsed": false,
    "pycharm": {
     "name": "#%% md\n"
    }
   }
  },
  {
   "cell_type": "code",
   "execution_count": 12,
   "outputs": [],
   "source": [
    "theta = 20 * degrees\n",
    "mass = 3000 # kg\n",
    "Jm = 0.3 # kg-m^2\n",
    "J_drum = 45 # kg-m^2\n",
    "drum_diameter = 0.5 # m\n",
    "a = 1/6.25 # gear coupling ratio (ω_drum / ω_m)\n",
    "v_belt = 2 # m/s\n",
    "E_mass = (0.5 * mass * v_belt ** 2 )*sin(theta)"
   ],
   "metadata": {
    "collapsed": false,
    "pycharm": {
     "name": "#%%\n"
    }
   }
  },
  {
   "cell_type": "markdown",
   "source": [
    "a. Calculate the motor speed $\\omega_m$"
   ],
   "metadata": {
    "collapsed": false,
    "pycharm": {
     "name": "#%% md\n"
    }
   }
  },
  {
   "cell_type": "code",
   "execution_count": 13,
   "outputs": [
    {
     "name": "stdout",
     "output_type": "stream",
     "text": [
      "ω_motor = 50.0 rad/s\n",
      "ω_drum = 8.0 rad/s\n"
     ]
    }
   ],
   "source": [
    "\n",
    "def ω_drum(velocity: ArrayLike,diameter:ArrayLike):\n",
    "    return velocity/(diameter/2)\n",
    "def ω_motor(ω, a):\n",
    "    return ω/a\n",
    "\n",
    "print(f'ω_motor = {ω_motor(ω_drum(v_belt, drum_diameter),a)} rad/s')\n",
    "print(f'ω_drum = {ω_drum(v_belt, drum_diameter)} rad/s')"
   ],
   "metadata": {
    "collapsed": false,
    "pycharm": {
     "name": "#%%\n"
    }
   }
  },
  {
   "cell_type": "markdown",
   "source": [
    "b. Calculate the total inertia $J_{tot}$ referred to the motor."
   ],
   "metadata": {
    "collapsed": false,
    "pycharm": {
     "name": "#%% md\n"
    }
   }
  },
  {
   "cell_type": "code",
   "execution_count": 14,
   "outputs": [
    {
     "name": "stdout",
     "output_type": "stream",
     "text": [
      "J_total = 2.604 kg-m^2\n"
     ]
    }
   ],
   "source": [
    "J_total = Jm + a**2 * 2 * J_drum\n",
    "print(f'J_total = {J_total} kg-m^2')"
   ],
   "metadata": {
    "collapsed": false,
    "pycharm": {
     "name": "#%%\n"
    }
   }
  },
  {
   "cell_type": "markdown",
   "source": [
    "c. Calculate the motor torque $T_{m,0}$ at standstill."
   ],
   "metadata": {
    "collapsed": false,
    "pycharm": {
     "name": "#%% md\n"
    }
   }
  },
  {
   "cell_type": "code",
   "execution_count": 15,
   "outputs": [
    {
     "name": "stdout",
     "output_type": "stream",
     "text": [
      "Drum torque  Td = 2515.55 Nm\n",
      "Motor torque Tm = 402.49 Nm\n"
     ]
    }
   ],
   "source": [
    "Fd = mass*g*sin(theta)\n",
    "Td = Fd*(drum_diameter/2)\n",
    "print(f'Drum torque  Td = {Td:0.2f} Nm')\n",
    "T_motor = Td * a\n",
    "print(f'Motor torque Tm = {T_motor:0.2f} Nm')"
   ],
   "metadata": {
    "collapsed": false,
    "pycharm": {
     "name": "#%%\n"
    }
   }
  },
  {
   "cell_type": "markdown",
   "source": [
    "## Problem 2"
   ],
   "metadata": {
    "collapsed": false,
    "pycharm": {
     "name": "#%% md\n"
    }
   }
  },
  {
   "cell_type": "code",
   "execution_count": 16,
   "outputs": [
    {
     "name": "stdout",
     "output_type": "stream",
     "text": [
      "Motor rotational speed Wm(2) = 50.00 rad/s\n",
      "Mechanical Power Pm = 25.12 kW\n"
     ]
    }
   ],
   "source": [
    "Tm_new = 502.5 # Nm\n",
    "vf = 2 # m/s\n",
    "Wd = ω_drum(vf, drum_diameter)\n",
    "Wm = ω_motor(Wd, a)\n",
    "print(f'Motor rotational speed Wm(2) = {Wm:0.2f} rad/s')\n",
    "Pm = Tm_new * Wm\n",
    "print(f'Mechanical Power Pm = {Pm/1000:0.2f} kW')"
   ],
   "metadata": {
    "collapsed": false,
    "pycharm": {
     "name": "#%%\n"
    }
   }
  },
  {
   "cell_type": "markdown",
   "source": [
    "b. Calculate the time it takes to reach point B and distance between A and B"
   ],
   "metadata": {
    "collapsed": false,
    "pycharm": {
     "name": "#%% md\n"
    }
   }
  },
  {
   "cell_type": "code",
   "execution_count": 17,
   "outputs": [
    {
     "name": "stdout",
     "output_type": "stream",
     "text": [
      "time: 1301.852 ms\n",
      "distance: 2.60 m\n"
     ]
    }
   ],
   "source": [
    "dT = Tm_new - T_motor\n",
    "t_b = (Wm * J_total ) / dT\n",
    "print(f'time: {t_b*1000:0.3f} ms')\n",
    "d_b = v_belt*t_b\n",
    "print(f'distance: {d_b:0.2f} m')"
   ],
   "metadata": {
    "collapsed": false,
    "pycharm": {
     "name": "#%%\n"
    }
   }
  },
  {
   "cell_type": "markdown",
   "source": [
    "c. Calculate, $T_{mBC}$ and $t_{c}$ if $BC = 10 m$\n",
    "Since the system has no other losses, at the maintained velocity of $2 m/s$ the motor torque returns to the initial torque."
   ],
   "metadata": {
    "collapsed": false,
    "pycharm": {
     "name": "#%% md\n"
    }
   }
  },
  {
   "cell_type": "code",
   "execution_count": 18,
   "outputs": [
    {
     "name": "stdout",
     "output_type": "stream",
     "text": [
      "Motor torque Tm = 402.49 Nm\n",
      "t_c = 5.00 s\n"
     ]
    }
   ],
   "source": [
    "T_motor = Td * a\n",
    "d_BC = 10\n",
    "print(f'Motor torque Tm = {T_motor:0.2f} Nm')\n",
    "t_c = d_BC/v_belt\n",
    "print(f't_c = {t_c:0.2f} s')"
   ],
   "metadata": {
    "collapsed": false,
    "pycharm": {
     "name": "#%%\n"
    }
   }
  },
  {
   "cell_type": "markdown",
   "source": [
    "d. From point C, compute the torque to slow down in 3s.\n",
    "$$\n",
    "\\begin{align}\n",
    "\\omega_m(t) &= \\frac{1}{J_{tot}} {\\int}_{0}^{t_f} (T_m - T_{CD})\\ dt \\\\\n",
    "\\omega_m(t) \\cdot J_{tot} &= {\\int}_{0}^{t_f} (T_m - T_{CD})\\ dt \\\\\n",
    "\\omega_m(t) \\cdot J_{tot} &= (T_m - T_{CD})(t_f-0) \\\\\n",
    "\\frac{\\omega_m(t) \\cdot J_{tot}}{t_f} &= (T_m - T_{CD})\\\\\n",
    "T_{CD} &= T_{m} - \\frac{\\omega_m(t) \\cdot J_{tot}}{t_f}\\\\\n",
    "T_m &= 402.49 - \\frac{50 \\cdot 2.6}{3}\\\\\n",
    "T_m &= 359.09 \\ N\\cdot m \\\\\n",
    "\\end{align}\n",
    "$$"
   ],
   "metadata": {
    "collapsed": false,
    "pycharm": {
     "name": "#%% md\n"
    }
   }
  },
  {
   "cell_type": "code",
   "execution_count": 19,
   "outputs": [
    {
     "name": "stdout",
     "output_type": "stream",
     "text": [
      "T_CD = 359.09 Nm\n"
     ]
    }
   ],
   "source": [
    "t_CD = 3\n",
    "T_CD = T_motor - (Wm * J_total / t_CD)\n",
    "print(f'T_CD = {T_CD:0.2f} Nm')"
   ],
   "metadata": {
    "collapsed": false,
    "pycharm": {
     "name": "#%%\n"
    }
   }
  },
  {
   "cell_type": "markdown",
   "source": [
    "e. At  point $D$ to maintain the mass on the ramp, you will need to maintain the initial torque of $402.49$ Nm."
   ],
   "metadata": {
    "collapsed": false,
    "pycharm": {
     "name": "#%% md\n"
    }
   }
  },
  {
   "cell_type": "code",
   "execution_count": 20,
   "outputs": [
    {
     "data": {
      "text/plain": "Canvas(toolbar=Toolbar(toolitems=[('Home', 'Reset original view', 'home', 'home'), ('Back', 'Back to previous …",
      "image/png": "[encoded data removed]",
      "text/html": "\n            <div style=\"display: inline-block;\">\n                <div class=\"jupyter-widgets widget-label\" style=\"text-align: center;\">\n                    Figure\n                </div>\n                <img src='data:image/png;base64,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' width=640.0/>\n            </div>\n        ",
      "application/vnd.jupyter.widget-view+json": {
       "version_major": 2,
       "version_minor": 0,
       "model_id": "f9b31e9efe314d1fb415af3c8ac46221"
      }
     },
     "metadata": {},
     "output_type": "display_data"
    }
   ],
   "source": [
    "x0 = linspace(-1,0)\n",
    "y0 = T_motor*ones(x0.shape)\n",
    "x1 = linspace(0,t_b)\n",
    "y1 = Tm_new*ones(x1.shape)\n",
    "x2 = linspace(t_b,t_c)\n",
    "y2 = T_motor*ones(x2.shape)\n",
    "x3 = linspace(t_c, t_c+t_CD)\n",
    "y3 = T_CD*ones(x3.shape)\n",
    "xf = linspace(t_c+t_CD, t_c+t_CD+1)\n",
    "yf = T_motor*ones(xf.shape)\n",
    "\n",
    "plt.plot(x0,y0)\n",
    "plt.plot(x1,y1)\n",
    "plt.plot(x2,y2)\n",
    "plt.plot(x3,y3)\n",
    "plt.plot(xf,yf)\n",
    "plt.legend([\n",
    "    'T needed to counter gravity',\n",
    "    '$t_A \\\\rightarrow t_B$',\n",
    "    '$t_B \\\\rightarrow t_C$',\n",
    "    '$t_C \\\\rightarrow t_D$',\n",
    "    'T needed to counter gravity',\n",
    "])\n",
    "plt.show()"
   ],
   "metadata": {
    "collapsed": false,
    "pycharm": {
     "name": "#%%\n"
    }
   }
  },
  {
   "cell_type": "markdown",
   "source": [
    "## Problem 3\n",
    "a)\n",
    "\n",
    "Case 1\n",
    "\n",
    "Case 2\n",
    "\n",
    "b) False"
   ],
   "metadata": {
    "collapsed": false,
    "pycharm": {
     "name": "#%% md\n"
    }
   }
  }
 ],
 "metadata": {
  "kernelspec": {
   "display_name": "Python 3 (ipykernel)",
   "language": "python",
   "name": "python3"
  },
  "language_info": {
   "codemirror_mode": {
    "name": "ipython",
    "version": 3
   },
   "file_extension": ".py",
   "mimetype": "text/x-python",
   "name": "python",
   "nbconvert_exporter": "python",
   "pygments_lexer": "ipython3",
   "version": "3.9.13"
  }
 },
 "nbformat": 4,
 "nbformat_minor": 1
}